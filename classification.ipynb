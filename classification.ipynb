{
 "metadata": {
  "name": ""
 },
 "nbformat": 3,
 "nbformat_minor": 0,
 "worksheets": [
  {
   "cells": [
    {
     "cell_type": "raw",
     "metadata": {},
     "source": [
      "cons of collaborative filtering -> recommends what the community likes. But, what the community likes is 'popular' -> popularity bias. Collaborative filtering cannot recommend something that the community has not rated e.g. new album / album by new band..Also, collaborative filtering doesnt work do well w data sparsity or scalability."
     ]
    },
    {
     "cell_type": "raw",
     "metadata": {},
     "source": [
      "How Pandora recommendation works (basic) -> classification, not item or user based filtering.\n",
      "\n",
      "It plays El Ten Eleven\u2019s tune My Only Swerving on the Phoenix station because \u201cBased on what you told us so far, we\u2019re playing this track because it features repetitive melodic phrasing, mixed acoustic and electric instrumentation etc.\n",
      "\n",
      "Pandora bases its recommendation on what it calls The Music Genome Project. They hire professional musicians with a solid background in music theory as analysts who determine the features (they call them 'genes') of a song. These analysts are given over 150 hours of training. Once trained they spend an average of 20-30 minutes analyzing a song to determine its genes/features. Many of these genes are technical.  Its a very labor intensive process and approximately 15,000 new songs are added per month.\n",
      "\n",
      "Each song has a 'gene set'. Genes are arranged into categories. For example, there is a musical qualities category which contains genes for Blues Rock Qualities, Folk Rock Qualities, and Pop Rock Qualities among others.  So distance wrt to a gene can be calculated and summed up."
     ]
    },
    {
     "cell_type": "code",
     "collapsed": false,
     "input": [
      "music = {\"Dr Dog/Fate\": {\"piano\": 2.5, \"vocals\": 4, \"beat\": 3.5, \"blues\": 3, \"guitar\": 5, \"backup vocals\": 4, \"rap\": 1},\n",
      "        \"Phoenix/Lisztomania\": {\"piano\": 2, \"vocals\": 5, \"beat\": 5, \"blues\": 3, \"guitar\": 2, \"backup vocals\": 1, \"rap\": 1},\n",
      "\"Heartless Bastards/Out at Sea\": {\"piano\": 1, \"vocals\": 5, \"beat\": 4, \"blues\": 2, \"guitar\":4,\"backup vocals\": 1,\"rap\": 1},      \n",
      "\"Todd Snider/Don't Tempt Me\": {\"piano\": 4, \"vocals\": 5,\"beat\": 4, \"blues\": 4, \"guitar\":1,\"backup vocals\": 5, \"rap\": 1},\n",
      "\"The Black Keys/Magic Potion\":{\"piano\": 1, \"vocals\": 4,\"beat\": 5, \"blues\": 3.5,\"guitar\":5,\"backup vocals\": 1,\"rap\": 1},         \n",
      "\"Glee Cast/Jessie's Girl\": {\"piano\": 1, \"vocals\": 5,\"beat\": 3.5, \"blues\": 3,\"guitar\":4, \"backup vocals\": 5, \"rap\": 1},\n",
      "\"La Roux/Bulletproof\": {\"piano\": 5, \"vocals\": 5, \"beat\": 4, \"blues\": 2, \"guitar\": 1,\"backup vocals\": 1, \"rap\": 1},\n",
      "\"Mike Posner\": {\"piano\": 2.5, \"vocals\": 4, \"beat\": 4, \"blues\": 1, \"guitar\": 1, \"backup vocals\": 1,\"rap\": 1},\n",
      "\"Black Eyed Peas/Rock That Body\": {\"piano\": 2, \"vocals\": 5,\"beat\": 5, \"blues\": 1, \"guitar\":2,\"backup vocals\": 2,\"rap\": 4},         \n",
      "\"Lady Gaga/Alejandro\": {\"piano\": 1, \"vocals\": 5, \"beat\": 3,\"blues\": 2, \"guitar\": 1,\"backup vocals\": 2, \"rap\": 1}}"
     ],
     "language": "python",
     "metadata": {},
     "outputs": [],
     "prompt_number": 152
    },
    {
     "cell_type": "code",
     "collapsed": false,
     "input": [
      "def computeNearestNeighborO(song_name, song_db, k = 1):\n",
      "    distances = []\n",
      "    for song, gene_dict in song_db.items():\n",
      "        distance, gene_keys = 0, gene_dict.keys()\n",
      "        if song != song_name:\n",
      "            for gene in song_db[song_name]:\n",
      "                if gene in gene_keys:\n",
      "                    distance += abs(song_db[song_name][gene]-gene_dict[gene])**k\n",
      "        distance = distance**(1/float(k))\n",
      "        if (distance == 0): continue\n",
      "        distances.append((distance,song))\n",
      "    distances.sort()\n",
      "    return distances"
     ],
     "language": "python",
     "metadata": {},
     "outputs": [],
     "prompt_number": 153
    },
    {
     "cell_type": "code",
     "collapsed": false,
     "input": [
      "computeNearestNeighborO('The Black Keys/Magic Potion',music)"
     ],
     "language": "python",
     "metadata": {},
     "outputs": [
      {
       "metadata": {},
       "output_type": "pyout",
       "prompt_number": 154,
       "text": [
        "[(4.5, 'Heartless Bastards/Out at Sea'),\n",
        " (5.5, 'Phoenix/Lisztomania'),\n",
        " (6.5, 'Dr Dog/Fate'),\n",
        " (8.0, \"Glee Cast/Jessie's Girl\"),\n",
        " (9.0, 'Mike Posner'),\n",
        " (9.5, 'Lady Gaga/Alejandro'),\n",
        " (11.5, 'Black Eyed Peas/Rock That Body'),\n",
        " (11.5, 'La Roux/Bulletproof'),\n",
        " (13.5, \"Todd Snider/Don't Tempt Me\")]"
       ]
      }
     ],
     "prompt_number": 154
    },
    {
     "cell_type": "raw",
     "metadata": {},
     "source": [
      "this difference in scale among attributes is a big problem for any recommendation system. So normalization is necessary (z-score). The problem with the standard score is that it is greatly influenced by outliers. e.g. CEO salary in mean wage/hour. Hence, the modified standard score is calculated wrt to median, not mean and absolute standard deviation, not the normal one. "
     ]
    },
    {
     "cell_type": "markdown",
     "metadata": {},
     "source": [
      " absolute standard dev =$ \\large \\frac {\\sum {|x_{i}-mu|}} {cardinality(x)} $\n",
      " \n",
      " standard score = $ \\large \\frac {x-median} {absStdSco} $"
     ]
    },
    {
     "cell_type": "code",
     "collapsed": false,
     "input": [
      "# the item vector represents the attributes: piano, vocals, # beat, blues, guitar, backup vocals, rap\n",
      "items = {\"Dr Dog/Fate\": [2.5, 4, 3.5, 3, 5, 4, 1],\n",
      "         \"Phoenix/Lisztomania\": [2, 5, 5, 3, 2, 1, 1],\n",
      "         \"Heartless Bastards/Out at Sea\": [1, 5, 4, 2, 4, 1, 1],\n",
      "         \"Todd Snider/Don't Tempt Me\": [4, 5, 4, 4, 1, 5, 1],\n",
      "         \"The Black Keys/Magic Potion\": [1, 4, 5, 3.5, 5, 1, 1],\n",
      "         \"Glee Cast/Jessie's Girl\": [1, 5, 3.5, 3, 4, 5, 1],\n",
      "         \"La Roux/Bulletproof\": [5, 5, 4, 2, 1, 1, 1],\n",
      "         \"Mike Posner\": [2.5, 4, 4, 1, 1, 1, 1],\n",
      "         \"Black Eyed Peas/Rock That Body\": [2, 5, 5, 1, 2, 2, 4],\n",
      "         \"Lady Gaga/Alejandro\": [1, 5, 3, 2, 1, 2, 1]}"
     ],
     "language": "python",
     "metadata": {},
     "outputs": [],
     "prompt_number": 155
    },
    {
     "cell_type": "code",
     "collapsed": false,
     "input": [
      "users = {\"Angelica\": {\"Dr Dog/Fate\": \"L\", \"Phoenix/Lisztomania\": \"L\", \"Heartless Bastards/Out at Sea\": \"D\",\n",
      "                      \"Todd Snider/Don't Tempt Me\": \"D\",\n",
      "                      \"The Black Keys/Magic Potion\": \"D\",\n",
      "                      \"Glee Cast/Jessie's Girl\": \"L\",\n",
      "                      \"La Roux/Bulletproof\": \"D\",\n",
      "                      \"Mike Posner\": \"D\",\n",
      "                      \"Black Eyed Peas/Rock That Body\": \"D\",\n",
      "                      \"Lady Gaga/Alejandro\": \"L\"},\n",
      "         \"Bill\":  {\"Dr Dog/Fate\": \"L\", \"Phoenix/Lisztomania\": \"L\",\n",
      "                   \"Heartless Bastards/Out at Sea\": \"L\",\n",
      "                   \"Todd Snider/Don't Tempt Me\": \"D\",\n",
      "                   \"The Black Keys/Magic Potion\": \"L\",\n",
      "                   \"Glee Cast/Jessie's Girl\": \"D\",\n",
      "                   \"La Roux/Bulletproof\": \"D\", \"Mike Posner\": \"D\",\n",
      "                   \"Black Eyed Peas/Rock That Body\": \"D\",\n",
      "                    \"Lady Gaga/Alejandro\": \"D\"} }"
     ],
     "language": "python",
     "metadata": {},
     "outputs": [],
     "prompt_number": 156
    },
    {
     "cell_type": "code",
     "collapsed": false,
     "input": [
      "def manhattan(vector1, vector2): \n",
      "    distance, n = 0, len(vector1)\n",
      "    n = len(vector1)\n",
      "    for i in range(n): distance += abs(vector1[i] - vector2[i])\n",
      "    return distance"
     ],
     "language": "python",
     "metadata": {},
     "outputs": [],
     "prompt_number": 157
    },
    {
     "cell_type": "code",
     "collapsed": false,
     "input": [
      "def computeNearestNeighbor(itemName, itemVector, items):\n",
      "    distances = []\n",
      "    for otherItem in items:\n",
      "        if otherItem != itemName:\n",
      "            distance = manhattan(itemVector, items[otherItem])\n",
      "            distances.append((distance, otherItem))\n",
      "   # sort based on distance -- closest first\n",
      "    distances.sort()\n",
      "    return distances"
     ],
     "language": "python",
     "metadata": {},
     "outputs": [],
     "prompt_number": 158
    },
    {
     "cell_type": "code",
     "collapsed": false,
     "input": [
      "computeNearestNeighbor(\"Dr Dog/Fate\",items[\"Dr Dog/Fate\"],items)"
     ],
     "language": "python",
     "metadata": {},
     "outputs": [
      {
       "metadata": {},
       "output_type": "pyout",
       "prompt_number": 159,
       "text": [
        "[(4.5, \"Glee Cast/Jessie's Girl\"),\n",
        " (6.5, 'The Black Keys/Magic Potion'),\n",
        " (8.0, 'Heartless Bastards/Out at Sea'),\n",
        " (9.0, 'Phoenix/Lisztomania'),\n",
        " (9.0, \"Todd Snider/Don't Tempt Me\"),\n",
        " (9.5, 'Mike Posner'),\n",
        " (10.0, 'Lady Gaga/Alejandro'),\n",
        " (12.0, 'La Roux/Bulletproof'),\n",
        " (13.0, 'Black Eyed Peas/Rock That Body')]"
       ]
      }
     ],
     "prompt_number": 159
    },
    {
     "cell_type": "raw",
     "metadata": {},
     "source": [
      "Normalize if :\n",
      "1. data mining calculates distances based on the value of features\n",
      "2. Scales of different features is different"
     ]
    },
    {
     "cell_type": "code",
     "collapsed": false,
     "input": [
      "def simple_classify(user, item, itemVect):\n",
      "    nearest = computeNearestNeighbor(item, itemVect, items)\n",
      "    rating = users[user][nearest[0][1]]\n",
      "    return rating"
     ],
     "language": "python",
     "metadata": {},
     "outputs": [],
     "prompt_number": 160
    },
    {
     "cell_type": "code",
     "collapsed": false,
     "input": [
      "simple_classify('Angelica','Cagle',[1,5,2.5,1,1,5,1])"
     ],
     "language": "python",
     "metadata": {},
     "outputs": [
      {
       "metadata": {},
       "output_type": "pyout",
       "prompt_number": 161,
       "text": [
        "'L'"
       ]
      }
     ],
     "prompt_number": 161
    },
    {
     "cell_type": "raw",
     "metadata": {},
     "source": [
      "A classifier uses an objects (in this case, a song's features) to determing what group or class it belongs to."
     ]
    },
    {
     "cell_type": "code",
     "collapsed": false,
     "input": [
      "import os\n",
      "class classifier:\n",
      "    def __init__(self, filename, delim = '\\t'):\n",
      "        self.filename = os.path.join(os.getcwd(),filename)\n",
      "        f = open(self.filename, 'r+')\n",
      "        lines = f.readlines()\n",
      "        f.close()\n",
      "        self.format = lines[0].strip().split(delim)\n",
      "        self.data = []\n",
      "        for line in lines[1:]:\n",
      "            fields = line.strip().split(delim)\n",
      "            ignore, vector = [], []\n",
      "            for i in range(len(fields)):\n",
      "                if self.format[i] == 'num': vector.append(int(fields[i]))\n",
      "                elif self.format[i] == 'comment': ignore.append(fields[i])\n",
      "                elif self.format[i] == 'class': classification = fields[i]\n",
      "            self.data.append((classification, vector, ignore))\n",
      "        self.vlen = len(self.data[0][1]) #length of vector \n",
      "        self.medianAndDeviation = []\n",
      "    \n",
      "    def getMedian(self, arr):\n",
      "        arr.sort()\n",
      "        l = len(arr)\n",
      "        if l % 2 == 1:\n",
      "            return arr[l//2]\n",
      "        else:\n",
      "            return (arr[l//2]+arr[l//2-1])/float(2)\n",
      "        \n",
      "    def getAbsoluteStandardDeviation(self, arr, median):\n",
      "        s = 0\n",
      "        for a in arr: s += abs(a-median)\n",
      "        return s/len(arr)\n",
      "    \n",
      "    def normalizeColumn(self, i):\n",
      "        col = [tup[1][i] for tup in self.data]\n",
      "        med = self.getMedian(col)\n",
      "        asd = self.getAbsoluteStandardDeviation(col, med)\n",
      "        self.medianAndDeviation.append((med,asd))\n",
      "        for tup in self.data: tup[1][i] = (tup[1][i] - med)/float(asd)\n",
      "    \n",
      "    def normalizeAllColumns(self):\n",
      "        for i in xrange(self.vlen): \n",
      "            self.normalizeColumn(i)\n",
      "\n",
      "    def normalizeVector(self, v):\n",
      "        # only works if median and asd in self.medianandasd\n",
      "        vector = list(v)\n",
      "        for i in range(len(vector)):\n",
      "            (median, asd) = self.medianAndDeviation[i]\n",
      "            vector[i] = (vector[i]-median)/float(asd)\n",
      "        return vector\n",
      "    \n",
      "    def distance(self, vt1, vt2, k =1): \n",
      "        return sum(map (lambda v1,v2: abs(v1-v2)**k, vt1, vt2))**(1/float(k))\n",
      "    \n",
      "    def nearestNeighbor(self, itemVector):\n",
      "        distances = []\n",
      "        for item in self.data:\n",
      "            vector = item[1]\n",
      "            distances.append((self.distance(vector, itemVector), item))\n",
      "        distances.sort()\n",
      "        return distances\n",
      "\n",
      "    def classify(self, vector):\n",
      "        vector = self.normalizeVector(vector)\n",
      "        nearest = self.nearestNeighbor(vector)\n",
      "        return nearest[0][1][0]"
     ],
     "language": "python",
     "metadata": {},
     "outputs": [],
     "prompt_number": 162
    },
    {
     "cell_type": "code",
     "collapsed": false,
     "input": [
      "train = classifier('data/ch4_classification/athletesTrainingSet.txt')\n",
      "train.normalizeAllColumns()"
     ],
     "language": "python",
     "metadata": {},
     "outputs": [],
     "prompt_number": 163
    },
    {
     "cell_type": "code",
     "collapsed": false,
     "input": [
      "test = {}\n",
      "with open('data/ch4_classification/athletesTestSet.txt','r+') as f:\n",
      "    test['txt'] = map(lambda x: x.strip(),f.readlines())[1:]\n",
      "test['players'] = []\n",
      "for player in test['txt']:\n",
      "    player = player.split('\\t')\n",
      "    player = (player[0], player[1], map(int,player[2:])) # name, sport and vector\n",
      "    test['players'].append(player)\n",
      "del test['txt']\n",
      "print test"
     ],
     "language": "python",
     "metadata": {},
     "outputs": [
      {
       "output_type": "stream",
       "stream": "stdout",
       "text": [
        "{'players': [('Aly Raisman', 'Gymnastics', [62, 115]), ('Crystal Langhorne', 'Basketball', [74, 190]), ('Diana Taurasi', 'Basketball', [72, 163]), ('Erin Thorn', 'Basketball', [69, 144]), ('Hannah Whelan', 'Gymnastics', [63, 117]), ('Jaycie Phelps', 'Gymnastics', [60, 97]), ('Kelly Miller', 'Basketball', [70, 140]), ('Kerri Strug', 'Gymnastics', [57, 87]), ('Koko Tsurumi', 'Gymnastics', [55, 75]), ('Li Shanshan', 'Gymnastics', [64, 101]), ('Lindsay Whalen', 'Basketball', [69, 169]), ('Lisa Jane Weightman', 'Track', [62, 97]), ('Maya Moore', 'Basketball', [72, 174]), ('Paula Radcliffe', 'Track', [68, 120]), ('Penny Taylor', 'Basketball', [73, 165]), ('Priscah Jeptoo', 'Track', [65, 108]), ('Shalane Flanagan', 'Track', [65, 106]), ('Xiaolin Zhu', 'Track', [67, 121]), ('Xueqin Wang', 'Track', [64, 110]), ('Zhu Xiaolin', 'Track', [67, 123])]}\n"
       ]
      }
     ],
     "prompt_number": 164
    },
    {
     "cell_type": "code",
     "collapsed": false,
     "input": [
      "classify_output = []\n",
      "for player in test['players']: classify_output.append(train.classify(player[2]))"
     ],
     "language": "python",
     "metadata": {},
     "outputs": [],
     "prompt_number": 165
    },
    {
     "cell_type": "code",
     "collapsed": false,
     "input": [
      "#comparing actual vs prediction\n",
      "correct = 0\n",
      "for i,player in enumerate(test['players']):\n",
      "    if player[1] == classify_output[i]: correct += 1\n",
      "\n",
      "print \"accuracy of classifier in this case is {0}\".format(str(correct/float(len(classify_output))))"
     ],
     "language": "python",
     "metadata": {},
     "outputs": [
      {
       "output_type": "stream",
       "stream": "stdout",
       "text": [
        "accuracy of classifier in this case is 0.8\n"
       ]
      }
     ],
     "prompt_number": 166
    },
    {
     "cell_type": "raw",
     "metadata": {},
     "source": [
      "standardization - using median and asd to find a score similar to z-score \n",
      "normalization - normalize an attribute on a scale between 0 to 1. (val - min)/(max - min)"
     ]
    }
   ],
   "metadata": {}
  }
 ]
}