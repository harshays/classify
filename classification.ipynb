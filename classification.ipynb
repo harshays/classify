{
 "metadata": {
  "name": ""
 },
 "nbformat": 3,
 "nbformat_minor": 0,
 "worksheets": [
  {
   "cells": [
    {
     "cell_type": "raw",
     "metadata": {},
     "source": [
      "cons of collaborative filtering -> recommends what the community likes. But, what the community likes is 'popular' -> popularity bias. Collaborative filtering cannot recommend something that the community has not rated e.g. new album / album by new band..Also, collaborative filtering doesnt work do well w data sparsity or scalability."
     ]
    },
    {
     "cell_type": "raw",
     "metadata": {},
     "source": [
      "How Pandora recommendation works (basic) -> classification, not item or user based filtering.\n",
      "\n",
      "It plays El Ten Eleven\u2019s tune My Only Swerving on the Phoenix station because \u201cBased on what you told us so far, we\u2019re playing this track because it features repetitive melodic phrasing, mixed acoustic and electric instrumentation etc.\n",
      "\n",
      "Pandora bases its recommendation on what it calls The Music Genome Project. They hire professional musicians with a solid background in music theory as analysts who determine the features (they call them 'genes') of a song. These analysts are given over 150 hours of training. Once trained they spend an average of 20-30 minutes analyzing a song to determine its genes/features. Many of these genes are technical.  Its a very labor intensive process and approximately 15,000 new songs are added per month.\n",
      "\n",
      "Each song has a 'gene set'. Genes are arranged into categories. For example, there is a musical qualities category which contains genes for Blues Rock Qualities, Folk Rock Qualities, and Pop Rock Qualities among others.  So distance wrt to a gene can be calculated and summed up."
     ]
    },
    {
     "cell_type": "code",
     "collapsed": false,
     "input": [
      "music = {\"Dr Dog/Fate\": {\"piano\": 2.5, \"vocals\": 4, \"beat\": 3.5, \"blues\": 3, \"guitar\": 5, \"backup vocals\": 4, \"rap\": 1},\n",
      "        \"Phoenix/Lisztomania\": {\"piano\": 2, \"vocals\": 5, \"beat\": 5, \"blues\": 3, \"guitar\": 2, \"backup vocals\": 1, \"rap\": 1},\n",
      "\"Heartless Bastards/Out at Sea\": {\"piano\": 1, \"vocals\": 5, \"beat\": 4, \"blues\": 2, \"guitar\":4,\"backup vocals\": 1,\"rap\": 1},      \n",
      "\"Todd Snider/Don't Tempt Me\": {\"piano\": 4, \"vocals\": 5,\"beat\": 4, \"blues\": 4, \"guitar\":1,\"backup vocals\": 5, \"rap\": 1},\n",
      "\"The Black Keys/Magic Potion\":{\"piano\": 1, \"vocals\": 4,\"beat\": 5, \"blues\": 3.5,\"guitar\":5,\"backup vocals\": 1,\"rap\": 1},         \n",
      "\"Glee Cast/Jessie's Girl\": {\"piano\": 1, \"vocals\": 5,\"beat\": 3.5, \"blues\": 3,\"guitar\":4, \"backup vocals\": 5, \"rap\": 1},\n",
      "\"La Roux/Bulletproof\": {\"piano\": 5, \"vocals\": 5, \"beat\": 4, \"blues\": 2, \"guitar\": 1,\"backup vocals\": 1, \"rap\": 1},\n",
      "\"Mike Posner\": {\"piano\": 2.5, \"vocals\": 4, \"beat\": 4, \"blues\": 1, \"guitar\": 1, \"backup vocals\": 1,\"rap\": 1},\n",
      "\"Black Eyed Peas/Rock That Body\": {\"piano\": 2, \"vocals\": 5,\"beat\": 5, \"blues\": 1, \"guitar\":2,\"backup vocals\": 2,\"rap\": 4},         \n",
      "\"Lady Gaga/Alejandro\": {\"piano\": 1, \"vocals\": 5, \"beat\": 3,\"blues\": 2, \"guitar\": 1,\"backup vocals\": 2, \"rap\": 1}}"
     ],
     "language": "python",
     "metadata": {},
     "outputs": [],
     "prompt_number": 2
    },
    {
     "cell_type": "code",
     "collapsed": false,
     "input": [
      "def computeNearestNeighborO(song_name, song_db, k = 1):\n",
      "    distances = []\n",
      "    for song, gene_dict in song_db.items():\n",
      "        distance = 0\n",
      "        gene_keys = gene_dict.keys()\n",
      "        if song != song_name:\n",
      "            for gene in song_db[song_name]:\n",
      "                if gene in gene_keys:\n",
      "                    distance += abs(song_db[song_name][gene]-gene_dict[gene])**k\n",
      "        distance = distance**(1/float(k))\n",
      "        if (distance == 0): continue\n",
      "        distances.append((distance,song))\n",
      "    distances.sort()\n",
      "    return distances"
     ],
     "language": "python",
     "metadata": {},
     "outputs": [],
     "prompt_number": 23
    },
    {
     "cell_type": "code",
     "collapsed": false,
     "input": [
      "computeNearestNeighbor('The Black Keys/Magic Potion',music)"
     ],
     "language": "python",
     "metadata": {},
     "outputs": [
      {
       "ename": "NameError",
       "evalue": "name 'music' is not defined",
       "output_type": "pyerr",
       "traceback": [
        "\u001b[0;31m---------------------------------------------------------------------------\u001b[0m\n\u001b[0;31mNameError\u001b[0m                                 Traceback (most recent call last)",
        "\u001b[0;32m<ipython-input-24-5f6a8a8806ec>\u001b[0m in \u001b[0;36m<module>\u001b[0;34m()\u001b[0m\n\u001b[0;32m----> 1\u001b[0;31m \u001b[0mcomputeNearestNeighbor\u001b[0m\u001b[0;34m(\u001b[0m\u001b[0;34m'The Black Keys/Magic Potion'\u001b[0m\u001b[0;34m,\u001b[0m\u001b[0mmusic\u001b[0m\u001b[0;34m)\u001b[0m\u001b[0;34m\u001b[0m\u001b[0m\n\u001b[0m",
        "\u001b[0;31mNameError\u001b[0m: name 'music' is not defined"
       ]
      }
     ],
     "prompt_number": 24
    },
    {
     "cell_type": "raw",
     "metadata": {},
     "source": [
      "this difference in scale among attributes is a big problem for any recommendation system. So normalization is necessary (z-score). The problem with the standard score is that it is greatly influenced by outliers. e.g. CEO salary in mean wage/hour. Hence, the modified standard score is calculated wrt to median, not mean and absolute standard deviation, not the normal one. "
     ]
    },
    {
     "cell_type": "markdown",
     "metadata": {},
     "source": [
      " absolute standard dev =$ \\large \\frac {\\sum {|x_{i}-mu|}} {cardinality(x)} $\n",
      " \n",
      " standard score = $ \\large \\frac {x-median} {absStdSco} $"
     ]
    },
    {
     "cell_type": "code",
     "collapsed": false,
     "input": [
      "# the item vector represents the attributes: piano, vocals, # beat, blues, guitar, backup vocals, rap\n",
      "items = {\"Dr Dog/Fate\": [2.5, 4, 3.5, 3, 5, 4, 1],\n",
      "         \"Phoenix/Lisztomania\": [2, 5, 5, 3, 2, 1, 1],\n",
      "         \"Heartless Bastards/Out at Sea\": [1, 5, 4, 2, 4, 1, 1],\n",
      "         \"Todd Snider/Don't Tempt Me\": [4, 5, 4, 4, 1, 5, 1],\n",
      "         \"The Black Keys/Magic Potion\": [1, 4, 5, 3.5, 5, 1, 1],\n",
      "         \"Glee Cast/Jessie's Girl\": [1, 5, 3.5, 3, 4, 5, 1],\n",
      "         \"La Roux/Bulletproof\": [5, 5, 4, 2, 1, 1, 1],\n",
      "         \"Mike Posner\": [2.5, 4, 4, 1, 1, 1, 1],\n",
      "         \"Black Eyed Peas/Rock That Body\": [2, 5, 5, 1, 2, 2, 4],\n",
      "         \"Lady Gaga/Alejandro\": [1, 5, 3, 2, 1, 2, 1]}"
     ],
     "language": "python",
     "metadata": {},
     "outputs": [],
     "prompt_number": 1
    },
    {
     "cell_type": "code",
     "collapsed": false,
     "input": [
      "users = {\"Angelica\": {\"Dr Dog/Fate\": \"L\", \"Phoenix/Lisztomania\": \"L\", \"Heartless Bastards/Out at Sea\": \"D\",\n",
      "                      \"Todd Snider/Don't Tempt Me\": \"D\",\n",
      "                      \"The Black Keys/Magic Potion\": \"D\",\n",
      "                      \"Glee Cast/Jessie's Girl\": \"L\",\n",
      "                      \"La Roux/Bulletproof\": \"D\",\n",
      "                      \"Mike Posner\": \"D\",\n",
      "                      \"Black Eyed Peas/Rock That Body\": \"D\",\n",
      "                      \"Lady Gaga/Alejandro\": \"L\"},\n",
      "         \"Bill\":  {\"Dr Dog/Fate\": \"L\", \"Phoenix/Lisztomania\": \"L\",\n",
      "                   \"Heartless Bastards/Out at Sea\": \"L\",\n",
      "                   \"Todd Snider/Don't Tempt Me\": \"D\",\n",
      "                   \"The Black Keys/Magic Potion\": \"L\",\n",
      "                   \"Glee Cast/Jessie's Girl\": \"D\",\n",
      "                   \"La Roux/Bulletproof\": \"D\", \"Mike Posner\": \"D\",\n",
      "                   \"Black Eyed Peas/Rock That Body\": \"D\",\n",
      "                    \"Lady Gaga/Alejandro\": \"D\"} }"
     ],
     "language": "python",
     "metadata": {},
     "outputs": [],
     "prompt_number": 2
    },
    {
     "cell_type": "markdown",
     "metadata": {},
     "source": [
      "Using vectors instead of dict^"
     ]
    },
    {
     "cell_type": "code",
     "collapsed": false,
     "input": [
      "def manhattan(vector1, vector2): \n",
      "    distance = 0\n",
      "    total = 0\n",
      "    n = len(vector1)\n",
      "    for i in range(n):\n",
      "        distance += abs(vector1[i] - vector2[i])\n",
      "    return distance"
     ],
     "language": "python",
     "metadata": {},
     "outputs": [],
     "prompt_number": 5
    },
    {
     "cell_type": "code",
     "collapsed": false,
     "input": [
      "def computeNearestNeighbor(itemName, itemVector, items):\n",
      "    distances = []\n",
      "    for otherItem in items:\n",
      "        if otherItem != itemName:\n",
      "            distance = manhattan(itemVector, items[otherItem])\n",
      "            distances.append((distance, otherItem))\n",
      "   # sort based on distance -- closest first\n",
      "    distances.sort()\n",
      "    return distances"
     ],
     "language": "python",
     "metadata": {},
     "outputs": [],
     "prompt_number": 7
    },
    {
     "cell_type": "code",
     "collapsed": false,
     "input": [
      "computeNearestNeighbor(\"Dr Dog/Fate\",items[\"Dr Dog/Fate\"],items)"
     ],
     "language": "python",
     "metadata": {},
     "outputs": [
      {
       "metadata": {},
       "output_type": "pyout",
       "prompt_number": 17,
       "text": [
        "[(4.5, \"Glee Cast/Jessie's Girl\"),\n",
        " (6.5, 'The Black Keys/Magic Potion'),\n",
        " (8.0, 'Heartless Bastards/Out at Sea'),\n",
        " (9.0, 'Phoenix/Lisztomania'),\n",
        " (9.0, \"Todd Snider/Don't Tempt Me\"),\n",
        " (9.5, 'Mike Posner'),\n",
        " (10.0, 'Lady Gaga/Alejandro'),\n",
        " (12.0, 'La Roux/Bulletproof'),\n",
        " (13.0, 'Black Eyed Peas/Rock That Body')]"
       ]
      }
     ],
     "prompt_number": 17
    },
    {
     "cell_type": "code",
     "collapsed": false,
     "input": [],
     "language": "python",
     "metadata": {},
     "outputs": [],
     "prompt_number": 22
    },
    {
     "cell_type": "code",
     "collapsed": false,
     "input": [],
     "language": "python",
     "metadata": {},
     "outputs": []
    }
   ],
   "metadata": {}
  }
 ]
}