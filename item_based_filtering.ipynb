{
 "metadata": {
  "name": ""
 },
 "nbformat": 3,
 "nbformat_minor": 0,
 "worksheets": [
  {
   "cells": [
    {
     "cell_type": "heading",
     "level": 3,
     "metadata": {},
     "source": [
      "Implicit ratings and Item-base filtering"
     ]
    },
    {
     "cell_type": "raw",
     "metadata": {},
     "source": [
      "examining ways to fine tune collaborative filtering and improve accuracy"
     ]
    },
    {
     "cell_type": "raw",
     "metadata": {},
     "source": [
      "explicit ratings -> user rates (youtube like) cons -> everyone doesnt rate items or update ratings, may give partial information or lie. implicit (amazon buy, user clicks, itunes music) cons -> buying for someone else."
     ]
    },
    {
     "cell_type": "raw",
     "metadata": {},
     "source": [
      "The basic KNN in the previous notebook is inefficient since it needs to calculate the distances of ALL-1 objects everytime. 2 problems with user-based collaborative filtering -> scalability and sparsity (almost always). Better alternative is item-based filtering instead of user-based. In item-based filtering, ahead of time we find the most similar items, and combine that with a user's rating of items to generate a recommendation."
     ]
    },
    {
     "cell_type": "heading",
     "level": 4,
     "metadata": {},
     "source": [
      "Adjusted Cosine Similarity"
     ]
    },
    {
     "cell_type": "raw",
     "metadata": {},
     "source": [
      "One fundamental difference between the similarity computation in user-based CF and item-based CF is that in case of user-based CF the similarity is computed along the rows of the matrix but in case of the item-based CF the similarity is computed along the columns i.e., each pair in the co-rated set corresponds to a different user, Computing similarity using basic cosine measure in item-based case has one important drawback-the difference in rating scale between different users are not taken into account. The adjusted cosine similarity offsets this drawback by subtracting the corresponding user average from each co-rated pair."
     ]
    },
    {
     "cell_type": "markdown",
     "metadata": {},
     "source": [
      "$ s(i,j) =\\Large\\frac{\\sum_{u\\in U}{(R_{u,i}-\\bar{R_{u}})(R_{u,j}-\\bar{R_{u}})}}{\\sqrt{\\sum_{u\\in U}{(R_{u,i}-\\bar{R_{u})}^2}}\\sqrt{\\sum_{u\\in U}{(R_{u,j}-\\bar{R_{u})}^2}}}$\n",
      "\n",
      "\n",
      "i and j are items\n",
      "\n",
      "\n",
      "U is the set of all users that have rated items i and j\n",
      "\n",
      "\n",
      "$\\bar{R_{u}}$ is the average rating of user u\n",
      "\n",
      "\n",
      "${R_{u,x}}$ is the rating of item x by user u"
     ]
    },
    {
     "cell_type": "code",
     "collapsed": false,
     "input": [
      "def computeSimilarity(item1,item2,userRatings):\n",
      "    average = {}\n",
      "    for (user,rating) in userRatings.items():\n",
      "        average[user] = float(sum(rating.values()))/len(rating.values())\n",
      "    num, dem1, dem2 = 0,0,0\n",
      "    for (user,rating) in userRatings.items():\n",
      "        if item1 in rating and item2 in rating:\n",
      "            diff_i = rating[item1] - average[user]\n",
      "            diff_j = rating[item2] - average[user]\n",
      "            num += diff_i*diff_j\n",
      "            dem1 += diff_i**2\n",
      "            dem2 += diff_j**2\n",
      "    result = float(num)/((dem1**0.5)*(dem2**0.5))\n",
      "    return result\n",
      "\n",
      "            "
     ],
     "language": "python",
     "metadata": {},
     "outputs": [],
     "prompt_number": 1
    },
    {
     "cell_type": "code",
     "collapsed": false,
     "input": [
      "users3 = {\"David\": {\"Imagine Dragons\": 3, \"Daft Punk\": 5, \"Lorde\": 4, \"Fall Out Boy\": 1},\n",
      "\"Matt\": {\"Imagine Dragons\": 3, \"Daft Punk\": 4, \"Lorde\": 4, \"Fall Out Boy\": 1},\n",
      "\"Ben\": {\"Kacey Musgraves\": 4, \"Imagine Dragons\": 3, \"Lorde\": 3, \"Fall Out Boy\": 1},\n",
      "\"Chris\": {\"Kacey Musgraves\": 4, \"Imagine Dragons\": 4, \"Daft Punk\": 4, \"Lorde\": 3, \"Fall Out Boy\": 1},\n",
      "\"Tori\": {\"Kacey Musgraves\": 5, \"Imagine Dragons\": 4, \"Daft Punk\": 5, \"Fall Out Boy\": 3}}"
     ],
     "language": "python",
     "metadata": {},
     "outputs": [],
     "prompt_number": 44
    },
    {
     "cell_type": "code",
     "collapsed": false,
     "input": [
      "def similarityMatrix(db):\n",
      "    setOfItems = set()\n",
      "    for k,v in db.items():\n",
      "        for s in v.keys():\n",
      "            setOfItems.add(s)     \n",
      "            \n",
      "    matrix = {}\n",
      "    for s in setOfItems:\n",
      "        matrix[s] = {}\n",
      "        \n",
      "    for s in setOfItems:\n",
      "        for s2 in setOfItems:\n",
      "            if s2 != s:\n",
      "                matrix[s][s2] = computeSimilarity(s,s2,db)\n",
      "    return matrix\n",
      "\n",
      "print similarityMatrix(users3)"
     ],
     "language": "python",
     "metadata": {},
     "outputs": [
      {
       "output_type": "stream",
       "stream": "stdout",
       "text": [
        "{'Daft Punk': {'Kacey Musgraves': 1.0, 'Lorde': 0.7841149584671063, 'Fall Out Boy': -0.9569476757963578, 'Imagine Dragons': 0.007474142155514426}, 'Kacey Musgraves': {'Daft Punk': 1.0, 'Lorde': 0.320959291340884, 'Fall Out Boy': -0.9548973565567908, 'Imagine Dragons': 0.5259968577797907}, 'Lorde': {'Daft Punk': 0.7841149584671063, 'Kacey Musgraves': 0.320959291340884, 'Fall Out Boy': -0.6933514710054761, 'Imagine Dragons': -0.2525265372291518}, 'Fall Out Boy': {'Daft Punk': -0.9569476757963578, 'Kacey Musgraves': -0.9548973565567908, 'Lorde': -0.6933514710054761, 'Imagine Dragons': -0.3377561522857389}, 'Imagine Dragons': {'Daft Punk': 0.007474142155514426, 'Kacey Musgraves': 0.5259968577797907, 'Fall Out Boy': -0.3377561522857389, 'Lorde': -0.2525265372291518}}\n"
       ]
      }
     ],
     "prompt_number": 45
    },
    {
     "cell_type": "markdown",
     "metadata": {},
     "source": [
      "based on the similarity matrix, a user's ratings for an item can be predicted. \n",
      "\n",
      "$ p(u,i) = \\large\\frac{\\sum_{N \\in ratedItems}{(S_{i,N}\\cdot R_{u,N})}}{\\sum_{N \\in ratedItems}{|S_{i,N}|}} $\n",
      "\n"
     ]
    },
    {
     "cell_type": "markdown",
     "metadata": {},
     "source": [
      "p(u,i) predicts user u's rating for item i.\n",
      "\n",
      "N is the set of items user u has rated. R(u,n) is the rating user u gave for item n and S(i,n) is the similarity between item i and item N. \n",
      "\n",
      "However, p(u,i) is more accurate if R_(u,n) is normalized from a scale of 1 to 5 to a scale of -1 to 1. The normalized score for $R_{u,n}$ is $NR_{u,n}$"
     ]
    },
    {
     "cell_type": "markdown",
     "metadata": {},
     "source": [
      "normalizing and denormalizing:\n",
      "\n",
      "$NR_{u,N} = \\large \\frac {2(R_{u,N}-Min_{R}) - (Max_{R}-Min_{R})} {Max_{R}-Min_{R}}$\n",
      "\n",
      "Rearranging ^:\n",
      "\n",
      "\n",
      "$R_{u,N} = \\large \\frac {(NR_{u,N}+1) \\times (Max_{R}-Min_{R}) + 1} {2}$"
     ]
    },
    {
     "cell_type": "code",
     "collapsed": false,
     "input": [
      "from collections import defaultdict\n",
      "\n",
      "def normalizeScore(score,maxi,mini):\n",
      "    diff = maxi - mini\n",
      "    num = 2*(score-mini) - diff\n",
      "    return num/float(diff)\n",
      "\n",
      "def denormalizeScore(normal_score,maxi,mini):\n",
      "    diff = maxi-mini\n",
      "    ans = (normal_score+1)*diff*0.5\n",
      "    return ans + mini\n",
      "\n",
      "def normalizeDb(db,maxi,mini):\n",
      "    normalDb = defaultdict(dict)\n",
      "    for k,v in db.items():\n",
      "        for itm in v:\n",
      "            normalDb[k][itm] = normalizeScore(db[k][itm],maxi,mini)\n",
      "    return dict(normalDb)\n",
      "\n",
      "print normalizeDb(users3,5,1)"
     ],
     "language": "python",
     "metadata": {},
     "outputs": [
      {
       "output_type": "stream",
       "stream": "stdout",
       "text": [
        "{'Chris': {'Daft Punk': 0.5, 'Kacey Musgraves': 0.5, 'Imagine Dragons': 0.5, 'Fall Out Boy': -1.0, 'Lorde': 0.0}, 'Tori': {'Daft Punk': 1.0, 'Kacey Musgraves': 1.0, 'Fall Out Boy': 0.0, 'Imagine Dragons': 0.5}, 'Matt': {'Daft Punk': 0.5, 'Imagine Dragons': 0.0, 'Fall Out Boy': -1.0, 'Lorde': 0.5}, 'Ben': {'Kacey Musgraves': 0.5, 'Imagine Dragons': 0.0, 'Fall Out Boy': -1.0, 'Lorde': 0.0}, 'David': {'Daft Punk': 1.0, 'Imagine Dragons': 0.0, 'Fall Out Boy': -1.0, 'Lorde': 0.5}}\n"
       ]
      }
     ],
     "prompt_number": 104
    },
    {
     "cell_type": "code",
     "collapsed": false,
     "input": [
      "def predict(user,item,db,maxi,mini):\n",
      "    matrix = similarityMatrix(db)\n",
      "    normalizedDb = normalizeDb(db,maxi,mini)\n",
      "    num, dem = 0, 0\n",
      "    for ratedItem,rating in db[user].items():\n",
      "        num += matrix[item][ratedItem]*normalizedDb[user][ratedItem]\n",
      "        dem += abs(matrix[item][ratedItem])\n",
      "    return denormalizeScore(num/float(dem),5,1)"
     ],
     "language": "python",
     "metadata": {},
     "outputs": [],
     "prompt_number": 111
    },
    {
     "cell_type": "code",
     "collapsed": false,
     "input": [
      "predict('David','Kacey Musgraves',users3,5,1)"
     ],
     "language": "python",
     "metadata": {},
     "outputs": [
      {
       "metadata": {},
       "output_type": "pyout",
       "prompt_number": 112,
       "text": [
        "4.509984014468131"
       ]
      }
     ],
     "prompt_number": 112
    },
    {
     "cell_type": "heading",
     "level": 4,
     "metadata": {},
     "source": [
      "weighted slope one algorithm"
     ]
    },
    {
     "cell_type": "raw",
     "metadata": {},
     "source": [
      "comprises of two parts:\n",
      "1. compute deviations between every pair of items\n",
      "2. make predictions using the deviations calculated"
     ]
    },
    {
     "cell_type": "markdown",
     "metadata": {},
     "source": [
      "$dev_{i,j} = \\large \\sum_{u \\in user} \\frac {u_{i}-u_{j}} {len(rated-both)} $\n",
      "\n",
      "\n",
      "$dev_{j,i} = (-1\\times dev_{i,j}) $"
     ]
    },
    {
     "cell_type": "code",
     "collapsed": false,
     "input": [
      "users2 = {\"Amy\": {\"Taylor Swift\": 4, \"PSY\": 3, \"Whitney Houston\": 4},\n",
      "          \"Ben\": {\"Taylor Swift\": 5, \"PSY\": 2},\n",
      "          \"Clara\": {\"PSY\": 3.5, \"Whitney Houston\": 4},\n",
      "          \"Daisy\": {\"Taylor Swift\": 5, \"Whitney Houston\": 3}}"
     ],
     "language": "python",
     "metadata": {},
     "outputs": [],
     "prompt_number": 118
    },
    {
     "cell_type": "code",
     "collapsed": false,
     "input": [
      "def deviation(item1,item2,db):\n",
      "    c = 0\n",
      "    num = 0\n",
      "    for user, ratings in db.items():\n",
      "        if item1 in ratings and item2 in ratings:\n",
      "            num += (ratings[item1] - ratings[item2])\n",
      "            c += 1\n",
      "    return [num/float(c),c]\n",
      "\n",
      "def deviationMatrix(db):\n",
      "    devdb = defaultdict(dict)\n",
      "    for user, ratings in db.items():\n",
      "        for item in ratings:\n",
      "            for item2 in ratings:\n",
      "                if item != item2 and item2 not in devdb[item]:\n",
      "                    dev = deviation(item,item2,db)\n",
      "                    devdb[item][item2] = [dev[0],dev[1]]\n",
      "                    devdb[item2][item] = [-1 * dev[0],dev[1]]\n",
      "    return dict(devdb)"
     ],
     "language": "python",
     "metadata": {},
     "outputs": [],
     "prompt_number": 128
    },
    {
     "cell_type": "code",
     "collapsed": false,
     "input": [
      "deviationMatrix(users2)"
     ],
     "language": "python",
     "metadata": {},
     "outputs": [
      {
       "metadata": {},
       "output_type": "pyout",
       "prompt_number": 129,
       "text": [
        "{'PSY': {'Taylor Swift': [-2.0, 2], 'Whitney Houston': [-0.75, 2]},\n",
        " 'Taylor Swift': {'PSY': [2.0, 2], 'Whitney Houston': [1.0, 2]},\n",
        " 'Whitney Houston': {'PSY': [0.75, 2], 'Taylor Swift': [-1.0, 2]}}"
       ]
      }
     ],
     "prompt_number": 129
    },
    {
     "cell_type": "markdown",
     "metadata": {},
     "source": [
      "Making recommendations using deviation:\n",
      "\n",
      "$P^{wS1}(u)_{j} = \\Large \\frac {\\sum_{i \\in S(u) - {j}} {(dev_{j,i}+u_i)c_{j,i}} } {\\sum_{i \\in S(u) - {j}}{c_{j,i}}} $"
     ]
    },
    {
     "cell_type": "markdown",
     "metadata": {},
     "source": [
      "$P^{wS1}(u)_{j}$ is the function that uses weighted slope one algorithm to predict what user u will rate item j\n",
      "\n",
      "$i \\in S(u) - {j}$ is every item user u has rated except j \n",
      "\n",
      "$ u_{i} $ is the user u's rating for item i and $ dev_{j,i} $ is the deviation (j,i).\n",
      "\n",
      "$ c_{j,i} $ is the number of people who've rated both i and j"
     ]
    },
    {
     "cell_type": "code",
     "collapsed": false,
     "input": [
      "def slopeOnePrediction(user,PItem,db):\n",
      "    num,den = 0, 0\n",
      "    matrix = deviationMatrix(db)\n",
      "    for item in db[user]:\n",
      "        if item != PItem:\n",
      "            num += (matrix[PItem][item][0]+db[user][item])*matrix[PItem][item][1]\n",
      "            den += matrix[PItem][item][1]\n",
      "    return num/float(den)\n"
     ],
     "language": "python",
     "metadata": {},
     "outputs": [],
     "prompt_number": 130
    },
    {
     "cell_type": "code",
     "collapsed": false,
     "input": [
      "print slopeOnePrediction('Ben','Whitney Houston',users2)\n",
      "print slopeOnePrediction('Daisy','PSY',users2)"
     ],
     "language": "python",
     "metadata": {},
     "outputs": [
      {
       "output_type": "stream",
       "stream": "stdout",
       "text": [
        "3.375\n",
        "2.625\n"
       ]
      }
     ],
     "prompt_number": 133
    }
   ],
   "metadata": {}
  }
 ]
}